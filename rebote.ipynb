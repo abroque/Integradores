{
 "cells": [
  {
   "cell_type": "code",
   "execution_count": 2,
   "metadata": {
    "collapsed": true
   },
   "outputs": [],
   "source": [
    "from pylab import*\n",
    "%matplotlib inline"
   ]
  },
  {
   "cell_type": "code",
   "execution_count": 3,
   "metadata": {
    "collapsed": true
   },
   "outputs": [],
   "source": [
    "def RK4(ec, p_ini, x, args=0, h=0.1):\n",
    "    tiempos=arange(x[0],x[1]+h,h)\n",
    "    sol = zeros((len(tiempos),len(p_ini)))\n",
    "    sol[0,:]=p_ini\n",
    "    if args==0:\n",
    "        for i in xrange(len(tiempos)-1):\n",
    "            k_1=ec(sol[i,:],tiempos[i])\n",
    "            k_2=ec(sol[i,:]+0.5*h*k_1,tiempos[i]+0.5*h)\n",
    "            k_3=ec(sol[i,:]+0.5*h*k_2,tiempos[i]+0.5*h)\n",
    "            k_4=ec(sol[i,:]+h*k_3,tiempos[i]+h)\n",
    "            sol[i+1,:]= sol[i,:]+ (h/6.)*(k_1+2*k_2+2*k_3+k_4)\n",
    "    else:\n",
    "        for i in xrange(len(tiempos)-1):\n",
    "            k_1=ec(sol[i,:],tiempos[i],args)\n",
    "            k_2=ec(sol[i,:]+0.5*h*k_1,tiempos[i]+0.5*h,args)\n",
    "            k_3=ec(sol[i,:]+0.5*h*k_2,tiempos[i]+0.5*h,args)\n",
    "            k_4=ec(sol[i,:]+h*k_3,tiempos[i]+h,args)\n",
    "            sol[i+1,:]= sol[i,:]+ (h/6.)*(k_1+2*k_2+2*k_3+k_4)\n",
    "    return tiempos,sol"
   ]
  },
  {
   "cell_type": "code",
   "execution_count": 4,
   "metadata": {
    "collapsed": false
   },
   "outputs": [],
   "source": [
    "def e_mov(r_v,t,fric=0,g= 9.8,m=1):\n",
    "    u =sqrt(r_v[2]**2+r_v[3]**2)\n",
    "    dx = r_v[2]\n",
    "    dy = r_v[3]\n",
    "    if fric==0:\n",
    "        dvx,dvy = 0,-(g/m)\n",
    "        #print \"No use un modelo de friccion\"\n",
    "    else:\n",
    "        dvx = -fric([r_v[2],r_v[3]])[0]\n",
    "        dvy = -(g/m) - fric([r_v[2],r_v[3]])[1]\n",
    "        #print \"Use un modelo de friccion\"\n",
    "    return array([dx,dy,dvx,dvy])"
   ]
  },
  {
   "cell_type": "code",
   "execution_count": 5,
   "metadata": {
    "collapsed": true
   },
   "outputs": [],
   "source": [
    "def fric_id(v):\n",
    "    return array([0,0])\n",
    "\n",
    "def fric_v(v,gamma=0.1):\n",
    "    f_x = gamma*v[0]\n",
    "    f_y = gamma*v[1]\n",
    "    return array([f_x,f_y])\n",
    "\n",
    "def fric_v2(v,gamma=0.1):\n",
    "    norm_v = sqrt(v[0]**2 + v[1]**2)\n",
    "    f_x = gamma*norm_v*v[0]\n",
    "    f_y = gamma*norm_v*v[1]\n",
    "    return array([f_x,f_y])"
   ]
  },
  {
   "cell_type": "code",
   "execution_count": 6,
   "metadata": {
    "collapsed": false
   },
   "outputs": [
    {
     "data": {
      "text/plain": [
       "[<matplotlib.lines.Line2D at 0x7f6e609ec390>]"
      ]
     },
     "execution_count": 6,
     "metadata": {},
     "output_type": "execute_result"
    },
    {
     "data": {
      "image/png": "[encoded data removed]",
      "text/plain": [
       "<matplotlib.figure.Figure at 0x7f6e37a4dd10>"
      ]
     },
     "metadata": {},
     "output_type": "display_data"
    }
   ],
   "source": [
    "p=[0,0,5,5]\n",
    "t,sol_id=RK4(e_mov,p,[0,1])\n",
    "t,sol_fv=RK4(e_mov,p,[0,1],fric_v)\n",
    "t,sol_fv2=RK4(e_mov,p,[0,1],fric_v2)\n",
    "plot(sol_id[:,0],sol_id[:,1])\n",
    "plot(sol_fv[:,0],sol_fv[:,1])\n",
    "plot(sol_fv2[:,0],sol_fv2[:,1])"
   ]
  },
  {
   "cell_type": "code",
   "execution_count": 7,
   "metadata": {
    "collapsed": false
   },
   "outputs": [
    {
     "name": "stdout",
     "output_type": "stream",
     "text": [
      "[ 1.   1.   0.  -9.8]\n",
      "[ 1.   1.   0.  -9.8]\n",
      "[ 1.   1.  -0.1 -9.9]\n",
      "[ 1.          1.         -0.14142136 -9.94142136]\n"
     ]
    }
   ],
   "source": [
    "print e_mov([1,1,1,1],1)\n",
    "print e_mov([1,1,1,1],1,fric_id)\n",
    "print e_mov([1,1,1,1],1,fric_v)\n",
    "print e_mov([1,1,1,1],1,fric_v2)\n"
   ]
  },
  {
   "cell_type": "code",
   "execution_count": 8,
   "metadata": {
    "collapsed": false
   },
   "outputs": [
    {
     "ename": "IndexError",
     "evalue": "index 80 is out of bounds for axis 0 with size 11",
     "output_type": "error",
     "traceback": [
      "\u001b[1;31m---------------------------------------------------------------------------\u001b[0m",
      "\u001b[1;31mIndexError\u001b[0m                                Traceback (most recent call last)",
      "\u001b[1;32m<ipython-input-8-80178ba3a7ea>\u001b[0m in \u001b[0;36m<module>\u001b[1;34m()\u001b[0m\n\u001b[1;32m----> 1\u001b[1;33m \u001b[1;32mprint\u001b[0m \u001b[0msol_fv2\u001b[0m\u001b[1;33m[\u001b[0m\u001b[1;36m80\u001b[0m\u001b[1;33m,\u001b[0m\u001b[1;33m:\u001b[0m\u001b[1;33m]\u001b[0m\u001b[1;33m[\u001b[0m\u001b[1;36m1\u001b[0m\u001b[1;33m]\u001b[0m\u001b[1;33m\u001b[0m\u001b[0m\n\u001b[0m\u001b[0;32m      2\u001b[0m \u001b[1;32mprint\u001b[0m \u001b[0msol_fv2\u001b[0m\u001b[1;33m[\u001b[0m\u001b[1;33m-\u001b[0m\u001b[1;36m1\u001b[0m\u001b[1;33m,\u001b[0m\u001b[1;33m:\u001b[0m\u001b[1;33m]\u001b[0m\u001b[1;33m[\u001b[0m\u001b[1;36m1\u001b[0m\u001b[1;33m]\u001b[0m\u001b[1;33m\u001b[0m\u001b[0m\n",
      "\u001b[1;31mIndexError\u001b[0m: index 80 is out of bounds for axis 0 with size 11"
     ]
    }
   ],
   "source": [
    "print sol_fv2[80,:][1]\n",
    "print sol_fv2[-1,:][1]"
   ]
  }
 ],
 "metadata": {
  "kernelspec": {
   "display_name": "Python [Root]",
   "language": "python",
   "name": "Python [Root]"
  },
  "language_info": {
   "codemirror_mode": {
    "name": "ipython",
    "version": 2
   },
   "file_extension": ".py",
   "mimetype": "text/x-python",
   "name": "python",
   "nbconvert_exporter": "python",
   "pygments_lexer": "ipython2",
   "version": "2.7.12"
  }
 },
 "nbformat": 4,
 "nbformat_minor": 0
}
