{
 "cells": [
  {
   "cell_type": "code",
   "execution_count": 1,
   "metadata": {
    "collapsed": true
   },
   "outputs": [],
   "source": [
    "from pylab import*\n",
    "%matplotlib inline"
   ]
  },
  {
   "cell_type": "code",
   "execution_count": 2,
   "metadata": {
    "collapsed": false
   },
   "outputs": [],
   "source": [
    "def raiz_bip(func,x_i,x_d,err=1e-5):\n",
    "    raiz = 0.5*(x_i+x_d)\n",
    "    y_i,y_d = func(x_i),func(x_d)  \n",
    "    n=0\n",
    "    while abs(raiz - x_d) >= err and abs(y_i - y_d)>=err:\n",
    "        y_m = func(raiz)    \n",
    "        if y_m == 0.:\n",
    "            print \"Es la raiz \"\n",
    "            break\n",
    "        if y_m*y_i < 0:\n",
    "            x_d = raiz\n",
    "        else:\n",
    "            x_i = raiz\n",
    "        raiz = 0.5*(x_i+x_d)\n",
    "        y_i,y_d =func(x_i),func(x_d)\n",
    "        n += 1\n",
    "        print \"paso: \",n,\"    raiz=: \",raiz\n",
    "    return raiz"
   ]
  },
  {
   "cell_type": "code",
   "execution_count": 3,
   "metadata": {
    "collapsed": false
   },
   "outputs": [
    {
     "data": {
      "image/png": "[encoded data removed]",
      "text/plain": [
       "<matplotlib.figure.Figure at 0x7fa2dc894310>"
      ]
     },
     "metadata": {},
     "output_type": "display_data"
    }
   ],
   "source": [
    "x = linspace(3,4)\n",
    "plot(x,sin(x))\n",
    "grid(True)\n",
    "show()"
   ]
  },
  {
   "cell_type": "code",
   "execution_count": 4,
   "metadata": {
    "collapsed": false
   },
   "outputs": [
    {
     "name": "stdout",
     "output_type": "stream",
     "text": [
      "Es la raiz \n",
      "0.0\n",
      "pi:  3.14159265359\n"
     ]
    }
   ],
   "source": [
    "print raiz_bip(sin,-1,1,1e-8)\n",
    "print \"pi: \", pi"
   ]
  },
  {
   "cell_type": "code",
   "execution_count": 5,
   "metadata": {
    "collapsed": true
   },
   "outputs": [],
   "source": [
    "def una_funcion(x):\n",
    "    return (x-1)**5\n",
    "\n",
    "def d_una_funcion(x):\n",
    "    return 5*(x-1)**4\n",
    "    "
   ]
  },
  {
   "cell_type": "code",
   "execution_count": 6,
   "metadata": {
    "collapsed": false
   },
   "outputs": [
    {
     "data": {
      "text/plain": [
       "[<matplotlib.lines.Line2D at 0x7fa2d9dd4d90>]"
      ]
     },
     "execution_count": 6,
     "metadata": {},
     "output_type": "execute_result"
    },
    {
     "data": {
      "image/png": "[encoded data removed]",
      "text/plain": [
       "<matplotlib.figure.Figure at 0x7fa2da326750>"
      ]
     },
     "metadata": {},
     "output_type": "display_data"
    }
   ],
   "source": [
    "x=linspace(0,2)\n",
    "plot(x,una_funcion(x))"
   ]
  },
  {
   "cell_type": "code",
   "execution_count": 7,
   "metadata": {
    "collapsed": true
   },
   "outputs": [],
   "source": [
    "def mi_newton_1(func, d_func, x_ini, err=1e-8):\n",
    "    n=0\n",
    "    while abs(func(x_ini)) >= err:\n",
    "        print n,\"\\t\",x_ini\n",
    "        raiz = x_ini - func(x_ini)/d_func(x_ini)\n",
    "        x_ini = raiz\n",
    "        n += 1\n",
    "    return raiz"
   ]
  },
  {
   "cell_type": "code",
   "execution_count": 8,
   "metadata": {
    "collapsed": false
   },
   "outputs": [
    {
     "name": "stdout",
     "output_type": "stream",
     "text": [
      "paso:  1     raiz=:  2.5\n",
      "paso:  2     raiz=:  1.25\n",
      "paso:  3     raiz=:  0.625\n",
      "paso:  4     raiz=:  0.9375\n",
      "paso:  5     raiz=:  1.09375\n",
      "paso:  6     raiz=:  1.015625\n",
      "paso:  7     raiz=:  0.9765625\n",
      "paso:  8     raiz=:  0.99609375\n",
      "paso:  9     raiz=:  1.005859375\n",
      "paso:  10     raiz=:  1.0009765625\n",
      "1.0009765625\n"
     ]
    }
   ],
   "source": [
    "print raiz_bip(una_funcion,-5,5,1e-10)"
   ]
  },
  {
   "cell_type": "code",
   "execution_count": 10,
   "metadata": {
    "collapsed": false
   },
   "outputs": [
    {
     "name": "stdout",
     "output_type": "stream",
     "text": [
      "0 \t0.1\n",
      "1 \t0.28\n",
      "2 \t0.424\n",
      "3 \t0.5392\n",
      "4 \t0.63136\n",
      "5 \t0.705088\n",
      "6 \t0.7640704\n",
      "7 \t0.81125632\n",
      "8 \t0.849005056\n",
      "9 \t0.8792040448\n",
      "10 \t0.90336323584\n",
      "11 \t0.922690588672\n",
      "12 \t0.938152470938\n",
      "13 \t0.95052197675\n",
      "14 \t0.9604175814\n",
      "15 \t0.96833406512\n",
      "16 \t0.974667252096\n",
      "0.979733801677\n"
     ]
    }
   ],
   "source": [
    "print mi_newton_1(una_funcion,d_una_funcion,.1)"
   ]
  },
  {
   "cell_type": "code",
   "execution_count": 11,
   "metadata": {
    "collapsed": true
   },
   "outputs": [],
   "source": [
    "def raiz_bip_2(func,x_i,x_d,err=1e-8):\n",
    "    raiz = 0.5*(x_i+x_d)\n",
    "    y_i,y_d = func(x_i),func(x_d)  \n",
    "    n=0\n",
    "    while abs(y_d)>=err:\n",
    "        y_m = func(raiz)    \n",
    "        if y_m == 0.:\n",
    "            print \"Es la raiz \"\n",
    "            break\n",
    "        if y_m*y_i < 0:\n",
    "            x_d = raiz\n",
    "        else:\n",
    "            x_i = raiz\n",
    "        raiz = 0.5*(x_i+x_d)\n",
    "        y_i,y_d =func(x_i),func(x_d)\n",
    "        n += 1\n",
    "        print n, \"\\t\", raiz\n",
    "    return raiz"
   ]
  },
  {
   "cell_type": "code",
   "execution_count": 12,
   "metadata": {
    "collapsed": false,
    "scrolled": true
   },
   "outputs": [
    {
     "data": {
      "image/png": "[encoded data removed]",
      "text/plain": [
       "<matplotlib.figure.Figure at 0x7fa3045e8a90>"
      ]
     },
     "metadata": {},
     "output_type": "display_data"
    }
   ],
   "source": [
    "x = linspace(3,4)\n",
    "plot(x,sin(x))\n",
    "grid(True)\n",
    "show()"
   ]
  },
  {
   "cell_type": "code",
   "execution_count": 13,
   "metadata": {
    "collapsed": false
   },
   "outputs": [
    {
     "name": "stdout",
     "output_type": "stream",
     "text": [
      "Es la raiz \n",
      "0.0\n"
     ]
    }
   ],
   "source": [
    "print raiz_bip_2(sin,-1,1)"
   ]
  },
  {
   "cell_type": "code",
   "execution_count": 14,
   "metadata": {
    "collapsed": false
   },
   "outputs": [
    {
     "name": "stdout",
     "output_type": "stream",
     "text": [
      "0 \t2\n",
      "1 \t4.18503986326\n",
      "2 \t2.46789367451\n",
      "3 \t3.26618627757\n",
      "4 \t3.14094391232\n",
      "3.14159265368\n"
     ]
    }
   ],
   "source": [
    "print mi_newton_1(sin,cos,2)"
   ]
  },
  {
   "cell_type": "code",
   "execution_count": 15,
   "metadata": {
    "collapsed": false
   },
   "outputs": [],
   "source": [
    "def funcion2(x):\n",
    "    return x**2 + tan(sqrt(-8*x + pi))**3\n",
    "\n",
    "def dff_funcion2(x):\n",
    "    return 2*x - 12*(tan(sqrt(-8*x + pi))**2 + 1)*tan(sqrt(-8*x + pi))**2/sqrt(-8*x + pi)\n",
    "    "
   ]
  },
  {
   "cell_type": "code",
   "execution_count": 16,
   "metadata": {
    "collapsed": false
   },
   "outputs": [
    {
     "data": {
      "image/png": "[encoded data removed]",
      "text/plain": [
       "<matplotlib.figure.Figure at 0x7fa2d9d3d290>"
      ]
     },
     "metadata": {},
     "output_type": "display_data"
    }
   ],
   "source": [
    "x = linspace(-5,0,100)\n",
    "ylim(-30,30)\n",
    "plot(x,funcion2(x),x,dff_funcion2(x))\n",
    "plot([-2.94267812781],[0],\"o\")\n",
    "plot([-0.456490400247],[0],\"o\")\n",
    "grid(True)"
   ]
  },
  {
   "cell_type": "code",
   "execution_count": 17,
   "metadata": {
    "collapsed": false
   },
   "outputs": [
    {
     "name": "stdout",
     "output_type": "stream",
     "text": [
      "1 \t-2.95\n",
      "2 \t-2.925\n",
      "3 \t-2.9375\n",
      "4 \t-2.94375\n",
      "5 \t-2.940625\n",
      "6 \t-2.9421875\n",
      "7 \t-2.94296875\n",
      "8 \t-2.942578125\n",
      "9 \t-2.9427734375\n",
      "10 \t-2.94267578125\n",
      "11 \t-2.94272460938\n",
      "12 \t-2.94270019531\n",
      "13 \t-2.94268798828\n",
      "14 \t-2.94268188477\n",
      "15 \t-2.94267883301\n",
      "16 \t-2.94267730713\n",
      "17 \t-2.94267807007\n",
      "18 \t-2.94267845154\n",
      "19 \t-2.9426782608\n",
      "20 \t-2.94267816544\n",
      "21 \t-2.94267811775\n",
      "22 \t-2.94267814159\n",
      "23 \t-2.94267812967\n",
      "24 \t-2.94267812371\n",
      "25 \t-2.94267812669\n",
      "26 \t-2.94267812818\n",
      "27 \t-2.94267812744\n",
      "28 \t-2.94267812781\n",
      "-2.94267812781\n",
      "1 \t-0.325\n",
      "2 \t-0.4375\n",
      "3 \t-0.49375\n",
      "4 \t-0.465625\n",
      "5 \t-0.4515625\n",
      "6 \t-0.45859375\n",
      "7 \t-0.455078125\n",
      "8 \t-0.4568359375\n",
      "9 \t-0.45595703125\n",
      "10 \t-0.456396484375\n",
      "11 \t-0.456616210938\n",
      "12 \t-0.456506347656\n",
      "13 \t-0.456451416016\n",
      "14 \t-0.456478881836\n",
      "15 \t-0.456492614746\n",
      "16 \t-0.456485748291\n",
      "17 \t-0.456489181519\n",
      "18 \t-0.456490898132\n",
      "19 \t-0.456490039825\n",
      "20 \t-0.456490468979\n",
      "21 \t-0.456490254402\n",
      "22 \t-0.456490361691\n",
      "23 \t-0.456490415335\n",
      "24 \t-0.456490388513\n",
      "25 \t-0.456490401924\n",
      "26 \t-0.456490395218\n",
      "27 \t-0.456490398571\n",
      "28 \t-0.456490400247\n",
      "-0.456490400247\n"
     ]
    }
   ],
   "source": [
    "print raiz_bip_2(funcion2,-3,-2.8)\n",
    "print raiz_bip_2(funcion2,-1,-.1)"
   ]
  },
  {
   "cell_type": "code",
   "execution_count": 20,
   "metadata": {
    "collapsed": false
   },
   "outputs": [
    {
     "name": "stdout",
     "output_type": "stream",
     "text": [
      "0 \t-3\n",
      "1 \t-2.9318062049\n",
      "2 \t-2.94229732506\n",
      "3 \t-2.94267765788\n",
      "-2.94267812758\n",
      "0 \t-1\n",
      "1 \t-0.530746877804\n",
      "2 \t-0.442008460789\n",
      "3 \t-0.455854364862\n",
      "4 \t-0.456489188197\n",
      "-0.456490400596\n"
     ]
    }
   ],
   "source": [
    "print mi_newton_1(funcion2,dff_funcion2,-3)\n",
    "print mi_newton_1(funcion2,dff_funcion2,-1)"
   ]
  },
  {
   "cell_type": "code",
   "execution_count": 24,
   "metadata": {
    "collapsed": true
   },
   "outputs": [],
   "source": [
    "def num_dff(f,x,h=0.0001):\n",
    "    return (f(x+h)-f(x-h))/(2.*h)"
   ]
  },
  {
   "cell_type": "code",
   "execution_count": 25,
   "metadata": {
    "collapsed": true
   },
   "outputs": [],
   "source": [
    "def mi_newton_2(func, x_ini, err=1e-8):\n",
    "    n=0\n",
    "    while abs(func(x_ini)) >= err:\n",
    "        print n,\"\\t\",x_ini\n",
    "        raiz = x_ini - func(x_ini)/num_dff(func,x_ini)\n",
    "        x_ini = raiz\n",
    "        n += 1\n",
    "    return raiz"
   ]
  },
  {
   "cell_type": "code",
   "execution_count": 26,
   "metadata": {
    "collapsed": false
   },
   "outputs": [
    {
     "name": "stdout",
     "output_type": "stream",
     "text": [
      "0 \t1.67079632679\n",
      "1 \t11.6374407667\n",
      "2 \t12.9753246623\n",
      "3 \t12.5419364293\n",
      "4 \t12.5663754782\n",
      "12.5663706144\n",
      "12.5663706144\n"
     ]
    }
   ],
   "source": [
    "print mi_newton_2(sin,pi/2+0.1)\n",
    "print 4*pi"
   ]
  },
  {
   "cell_type": "code",
   "execution_count": 27,
   "metadata": {
    "collapsed": true
   },
   "outputs": [],
   "source": [
    "def num_dff_mejorado(f,x,h=0.0001):\n",
    "    return (-f(x+2*h)+f(x-2*h)+8*f(x+h)-8*f(x-h))/(12.*h)"
   ]
  },
  {
   "cell_type": "code",
   "execution_count": 32,
   "metadata": {
    "collapsed": false
   },
   "outputs": [
    {
     "name": "stdout",
     "output_type": "stream",
     "text": [
      "0.707106781187\n",
      "0.707106780008\n",
      "0.707106781187\n"
     ]
    }
   ],
   "source": [
    "a=pi/4\n",
    "print cos(a)\n",
    "print num_dff(sin,a)\n",
    "print num_dff_mejorado(sin,a)"
   ]
  }
 ],
 "metadata": {
  "kernelspec": {
   "display_name": "Python [Root]",
   "language": "python",
   "name": "Python [Root]"
  },
  "language_info": {
   "codemirror_mode": {
    "name": "ipython",
    "version": 2
   },
   "file_extension": ".py",
   "mimetype": "text/x-python",
   "name": "python",
   "nbconvert_exporter": "python",
   "pygments_lexer": "ipython2",
   "version": "2.7.12"
  }
 },
 "nbformat": 4,
 "nbformat_minor": 0
}
