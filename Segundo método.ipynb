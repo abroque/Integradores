{
 "cells": [
  {
   "cell_type": "markdown",
   "metadata": {},
   "source": [
    "# Segundo método \n",
    "\n",
    "$$\n",
    "y_{n+1} = y_n + hf(x_n,y_n)+\\frac{h^2}{2} \\left(\\frac{\\partial f}{\\partial x} + \\frac{\\partial f}{\\partial y}f \\right)\n",
    "$$\n",
    "\n",
    "donde $f$ y sus parciales están evaluadas $f(x_n,y_n)$"
   ]
  },
  {
   "cell_type": "code",
   "execution_count": 2,
   "metadata": {
    "collapsed": true
   },
   "outputs": [],
   "source": [
    "from pylab import*\n",
    "%matplotlib inline"
   ]
  },
  {
   "cell_type": "code",
   "execution_count": 8,
   "metadata": {
    "collapsed": true
   },
   "outputs": [],
   "source": [
    "def ec_dif(y,x):\n",
    "    return x*sin(y)\n",
    "    \n",
    "def d_ec_dif(y,x):\n",
    "    return sin(y),x*cos(y)"
   ]
  },
  {
   "cell_type": "code",
   "execution_count": 30,
   "metadata": {
    "collapsed": true
   },
   "outputs": [],
   "source": [
    "def segundo_orden(ec_diff,p_ini,t_final,ec_jac,h=0.1):\n",
    "    tiempo = arange(0,t_final+h,h)\n",
    "    y = zeros(len(tiempo))\n",
    "    y[0] = p_ini\n",
    "    for i in range(len(tiempo)-1):\n",
    "        y[i+1] = y[i] + h*ec_diff(y[i],tiempo[i])\n",
    "        y[i+1] += 0.5*h*h*ec_jac(y[i],tiempo[i])[0]\n",
    "        y[i+1] += 0.5*h*h*ec_jac(y[i],tiempo[i])[1]*ec_diff(y[i],tiempo[i])\n",
    "    return tiempo, y"
   ]
  },
  {
   "cell_type": "code",
   "execution_count": 19,
   "metadata": {
    "collapsed": true
   },
   "outputs": [],
   "source": [
    "def euler1(ec_diff,p_ini,t_final,h=0.1):\n",
    "    tiempo = arange(0,t_final+h,h)\n",
    "    y = zeros(len(tiempo))\n",
    "    y[0] = p_ini\n",
    "    for i in range(len(tiempo)-1):\n",
    "        y[i+1] = y[i] +h*ec_diff(y[i],tiempo[i])\n",
    "    return tiempo,y"
   ]
  },
  {
   "cell_type": "code",
   "execution_count": 39,
   "metadata": {
    "collapsed": false
   },
   "outputs": [
    {
     "data": {
      "text/plain": [
       "<matplotlib.legend.Legend at 0x7f693d32a2d0>"
      ]
     },
     "execution_count": 39,
     "metadata": {},
     "output_type": "execute_result"
    },
    {
     "data": {
      "image/png": "[encoded data removed]",
      "text/plain": [
       "<matplotlib.figure.Figure at 0x7f693d47ba50>"
      ]
     },
     "metadata": {},
     "output_type": "display_data"
    }
   ],
   "source": [
    "y_euler = euler1(ec_dif, 1, 2.5)\n",
    "y_euler_01 = euler1(ec_dif, 1, 2.5, 0.01)\n",
    "y_seg = segundo_orden(ec_dif,1,2.5,d_ec_dif)\n",
    "plot(y_euler[0],y_euler[1],\"--\",label=\"h=0.1\")\n",
    "plot(y_euler_01[0],y_euler_01[1],\"--\",label=\"h=0.01\")\n",
    "plot(y_seg[0],y_seg[1],\"o\",label=\"SG h=0.1\")\n",
    "legend()"
   ]
  },
  {
   "cell_type": "code",
   "execution_count": 43,
   "metadata": {
    "collapsed": false
   },
   "outputs": [
    {
     "name": "stdout",
     "output_type": "stream",
     "text": [
      "-0.00976324243738\n",
      "-0.000639644482111\n"
     ]
    }
   ],
   "source": [
    "print y_seg[1][-1] - y_euler[1][-1]\n",
    "print y_seg[1][-1] - y_euler_01[1][-1]"
   ]
  }
 ],
 "metadata": {
  "kernelspec": {
   "display_name": "Python [Root]",
   "language": "python",
   "name": "Python [Root]"
  },
  "language_info": {
   "codemirror_mode": {
    "name": "ipython",
    "version": 2
   },
   "file_extension": ".py",
   "mimetype": "text/x-python",
   "name": "python",
   "nbconvert_exporter": "python",
   "pygments_lexer": "ipython2",
   "version": "2.7.12"
  }
 },
 "nbformat": 4,
 "nbformat_minor": 0
}
